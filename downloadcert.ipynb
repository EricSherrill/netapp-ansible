{
 "cells": [
  {
   "cell_type": "code",
   "execution_count": 1,
   "metadata": {
    "collapsed": true
   },
   "outputs": [],
   "source": [
    "import ssl\n",
    "from collections import namedtuple"
   ]
  },
  {
   "cell_type": "code",
   "execution_count": 3,
   "metadata": {
    "collapsed": false
   },
   "outputs": [],
   "source": [
    "clients = [('n4m', 443), ('labvcenter', 443)]\n",
    "\n",
    "def writecert(address, sslport, filename):\n",
    "    with open(filename + '.pem', 'w') as f:\n",
    "        cert = str(ssl.get_server_certificate((address, sslport)))\n",
    "        f.write(cert)\n",
    "\n",
    "Hostinfo = namedtuple('Hostinfo', 'addr, port')\n",
    "for client in map(Hostinfo._make, clients):\n",
    "    writecert(client.addr, client.port, client.addr)\n",
    "\n",
    "\n",
    "    "
   ]
  },
  {
   "cell_type": "code",
   "execution_count": null,
   "metadata": {
    "collapsed": true
   },
   "outputs": [],
   "source": []
  }
 ],
 "metadata": {
  "kernelspec": {
   "display_name": "Python 3",
   "language": "python",
   "name": "python3"
  },
  "language_info": {
   "codemirror_mode": {
    "name": "ipython",
    "version": 3
   },
   "file_extension": ".py",
   "mimetype": "text/x-python",
   "name": "python",
   "nbconvert_exporter": "python",
   "pygments_lexer": "ipython3",
   "version": "3.4.3"
  }
 },
 "nbformat": 4,
 "nbformat_minor": 2
}
